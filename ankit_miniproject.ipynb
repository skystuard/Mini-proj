{
 "cells": [
  {
   "cell_type": "code",
   "execution_count": 1,
   "id": "f559a0e8",
   "metadata": {},
   "outputs": [],
   "source": [
    "import pandas as pd\n",
    "import numpy as np\n",
    "import matplotlib.pyplot as plt"
   ]
  },
  {
   "cell_type": "code",
   "execution_count": 2,
   "id": "86b01d05",
   "metadata": {},
   "outputs": [],
   "source": [
    "df=pd.read_csv('voice.csv')"
   ]
  },
  {
   "cell_type": "code",
   "execution_count": 3,
   "id": "c8229be6",
   "metadata": {},
   "outputs": [
    {
     "data": {
      "text/html": [
       "<div>\n",
       "<style scoped>\n",
       "    .dataframe tbody tr th:only-of-type {\n",
       "        vertical-align: middle;\n",
       "    }\n",
       "\n",
       "    .dataframe tbody tr th {\n",
       "        vertical-align: top;\n",
       "    }\n",
       "\n",
       "    .dataframe thead th {\n",
       "        text-align: right;\n",
       "    }\n",
       "</style>\n",
       "<table border=\"1\" class=\"dataframe\">\n",
       "  <thead>\n",
       "    <tr style=\"text-align: right;\">\n",
       "      <th></th>\n",
       "      <th>meanfreq</th>\n",
       "      <th>sd</th>\n",
       "      <th>median</th>\n",
       "      <th>Q25</th>\n",
       "      <th>Q75</th>\n",
       "      <th>IQR</th>\n",
       "      <th>skew</th>\n",
       "      <th>kurt</th>\n",
       "      <th>sp.ent</th>\n",
       "      <th>sfm</th>\n",
       "      <th>...</th>\n",
       "      <th>centroid</th>\n",
       "      <th>meanfun</th>\n",
       "      <th>minfun</th>\n",
       "      <th>maxfun</th>\n",
       "      <th>meandom</th>\n",
       "      <th>mindom</th>\n",
       "      <th>maxdom</th>\n",
       "      <th>dfrange</th>\n",
       "      <th>modindx</th>\n",
       "      <th>label</th>\n",
       "    </tr>\n",
       "  </thead>\n",
       "  <tbody>\n",
       "    <tr>\n",
       "      <th>0</th>\n",
       "      <td>0.059781</td>\n",
       "      <td>0.064241</td>\n",
       "      <td>0.032027</td>\n",
       "      <td>0.015071</td>\n",
       "      <td>0.090193</td>\n",
       "      <td>0.075122</td>\n",
       "      <td>12.863462</td>\n",
       "      <td>274.402906</td>\n",
       "      <td>0.893369</td>\n",
       "      <td>0.491918</td>\n",
       "      <td>...</td>\n",
       "      <td>0.059781</td>\n",
       "      <td>0.084279</td>\n",
       "      <td>0.015702</td>\n",
       "      <td>0.275862</td>\n",
       "      <td>0.007812</td>\n",
       "      <td>0.007812</td>\n",
       "      <td>0.007812</td>\n",
       "      <td>0.000000</td>\n",
       "      <td>0.000000</td>\n",
       "      <td>male</td>\n",
       "    </tr>\n",
       "    <tr>\n",
       "      <th>1</th>\n",
       "      <td>0.066009</td>\n",
       "      <td>0.067310</td>\n",
       "      <td>0.040229</td>\n",
       "      <td>0.019414</td>\n",
       "      <td>0.092666</td>\n",
       "      <td>0.073252</td>\n",
       "      <td>22.423285</td>\n",
       "      <td>634.613855</td>\n",
       "      <td>0.892193</td>\n",
       "      <td>0.513724</td>\n",
       "      <td>...</td>\n",
       "      <td>0.066009</td>\n",
       "      <td>0.107937</td>\n",
       "      <td>0.015826</td>\n",
       "      <td>0.250000</td>\n",
       "      <td>0.009014</td>\n",
       "      <td>0.007812</td>\n",
       "      <td>0.054688</td>\n",
       "      <td>0.046875</td>\n",
       "      <td>0.052632</td>\n",
       "      <td>male</td>\n",
       "    </tr>\n",
       "    <tr>\n",
       "      <th>2</th>\n",
       "      <td>0.077316</td>\n",
       "      <td>0.083829</td>\n",
       "      <td>0.036718</td>\n",
       "      <td>0.008701</td>\n",
       "      <td>0.131908</td>\n",
       "      <td>0.123207</td>\n",
       "      <td>30.757155</td>\n",
       "      <td>1024.927705</td>\n",
       "      <td>0.846389</td>\n",
       "      <td>0.478905</td>\n",
       "      <td>...</td>\n",
       "      <td>0.077316</td>\n",
       "      <td>0.098706</td>\n",
       "      <td>0.015656</td>\n",
       "      <td>0.271186</td>\n",
       "      <td>0.007990</td>\n",
       "      <td>0.007812</td>\n",
       "      <td>0.015625</td>\n",
       "      <td>0.007812</td>\n",
       "      <td>0.046512</td>\n",
       "      <td>male</td>\n",
       "    </tr>\n",
       "    <tr>\n",
       "      <th>3</th>\n",
       "      <td>0.151228</td>\n",
       "      <td>0.072111</td>\n",
       "      <td>0.158011</td>\n",
       "      <td>0.096582</td>\n",
       "      <td>0.207955</td>\n",
       "      <td>0.111374</td>\n",
       "      <td>1.232831</td>\n",
       "      <td>4.177296</td>\n",
       "      <td>0.963322</td>\n",
       "      <td>0.727232</td>\n",
       "      <td>...</td>\n",
       "      <td>0.151228</td>\n",
       "      <td>0.088965</td>\n",
       "      <td>0.017798</td>\n",
       "      <td>0.250000</td>\n",
       "      <td>0.201497</td>\n",
       "      <td>0.007812</td>\n",
       "      <td>0.562500</td>\n",
       "      <td>0.554688</td>\n",
       "      <td>0.247119</td>\n",
       "      <td>male</td>\n",
       "    </tr>\n",
       "    <tr>\n",
       "      <th>4</th>\n",
       "      <td>0.135120</td>\n",
       "      <td>0.079146</td>\n",
       "      <td>0.124656</td>\n",
       "      <td>0.078720</td>\n",
       "      <td>0.206045</td>\n",
       "      <td>0.127325</td>\n",
       "      <td>1.101174</td>\n",
       "      <td>4.333713</td>\n",
       "      <td>0.971955</td>\n",
       "      <td>0.783568</td>\n",
       "      <td>...</td>\n",
       "      <td>0.135120</td>\n",
       "      <td>0.106398</td>\n",
       "      <td>0.016931</td>\n",
       "      <td>0.266667</td>\n",
       "      <td>0.712812</td>\n",
       "      <td>0.007812</td>\n",
       "      <td>5.484375</td>\n",
       "      <td>5.476562</td>\n",
       "      <td>0.208274</td>\n",
       "      <td>male</td>\n",
       "    </tr>\n",
       "    <tr>\n",
       "      <th>...</th>\n",
       "      <td>...</td>\n",
       "      <td>...</td>\n",
       "      <td>...</td>\n",
       "      <td>...</td>\n",
       "      <td>...</td>\n",
       "      <td>...</td>\n",
       "      <td>...</td>\n",
       "      <td>...</td>\n",
       "      <td>...</td>\n",
       "      <td>...</td>\n",
       "      <td>...</td>\n",
       "      <td>...</td>\n",
       "      <td>...</td>\n",
       "      <td>...</td>\n",
       "      <td>...</td>\n",
       "      <td>...</td>\n",
       "      <td>...</td>\n",
       "      <td>...</td>\n",
       "      <td>...</td>\n",
       "      <td>...</td>\n",
       "      <td>...</td>\n",
       "    </tr>\n",
       "    <tr>\n",
       "      <th>3163</th>\n",
       "      <td>0.131884</td>\n",
       "      <td>0.084734</td>\n",
       "      <td>0.153707</td>\n",
       "      <td>0.049285</td>\n",
       "      <td>0.201144</td>\n",
       "      <td>0.151859</td>\n",
       "      <td>1.762129</td>\n",
       "      <td>6.630383</td>\n",
       "      <td>0.962934</td>\n",
       "      <td>0.763182</td>\n",
       "      <td>...</td>\n",
       "      <td>0.131884</td>\n",
       "      <td>0.182790</td>\n",
       "      <td>0.083770</td>\n",
       "      <td>0.262295</td>\n",
       "      <td>0.832899</td>\n",
       "      <td>0.007812</td>\n",
       "      <td>4.210938</td>\n",
       "      <td>4.203125</td>\n",
       "      <td>0.161929</td>\n",
       "      <td>female</td>\n",
       "    </tr>\n",
       "    <tr>\n",
       "      <th>3164</th>\n",
       "      <td>0.116221</td>\n",
       "      <td>0.089221</td>\n",
       "      <td>0.076758</td>\n",
       "      <td>0.042718</td>\n",
       "      <td>0.204911</td>\n",
       "      <td>0.162193</td>\n",
       "      <td>0.693730</td>\n",
       "      <td>2.503954</td>\n",
       "      <td>0.960716</td>\n",
       "      <td>0.709570</td>\n",
       "      <td>...</td>\n",
       "      <td>0.116221</td>\n",
       "      <td>0.188980</td>\n",
       "      <td>0.034409</td>\n",
       "      <td>0.275862</td>\n",
       "      <td>0.909856</td>\n",
       "      <td>0.039062</td>\n",
       "      <td>3.679688</td>\n",
       "      <td>3.640625</td>\n",
       "      <td>0.277897</td>\n",
       "      <td>female</td>\n",
       "    </tr>\n",
       "    <tr>\n",
       "      <th>3165</th>\n",
       "      <td>0.142056</td>\n",
       "      <td>0.095798</td>\n",
       "      <td>0.183731</td>\n",
       "      <td>0.033424</td>\n",
       "      <td>0.224360</td>\n",
       "      <td>0.190936</td>\n",
       "      <td>1.876502</td>\n",
       "      <td>6.604509</td>\n",
       "      <td>0.946854</td>\n",
       "      <td>0.654196</td>\n",
       "      <td>...</td>\n",
       "      <td>0.142056</td>\n",
       "      <td>0.209918</td>\n",
       "      <td>0.039506</td>\n",
       "      <td>0.275862</td>\n",
       "      <td>0.494271</td>\n",
       "      <td>0.007812</td>\n",
       "      <td>2.937500</td>\n",
       "      <td>2.929688</td>\n",
       "      <td>0.194759</td>\n",
       "      <td>female</td>\n",
       "    </tr>\n",
       "    <tr>\n",
       "      <th>3166</th>\n",
       "      <td>0.143659</td>\n",
       "      <td>0.090628</td>\n",
       "      <td>0.184976</td>\n",
       "      <td>0.043508</td>\n",
       "      <td>0.219943</td>\n",
       "      <td>0.176435</td>\n",
       "      <td>1.591065</td>\n",
       "      <td>5.388298</td>\n",
       "      <td>0.950436</td>\n",
       "      <td>0.675470</td>\n",
       "      <td>...</td>\n",
       "      <td>0.143659</td>\n",
       "      <td>0.172375</td>\n",
       "      <td>0.034483</td>\n",
       "      <td>0.250000</td>\n",
       "      <td>0.791360</td>\n",
       "      <td>0.007812</td>\n",
       "      <td>3.593750</td>\n",
       "      <td>3.585938</td>\n",
       "      <td>0.311002</td>\n",
       "      <td>female</td>\n",
       "    </tr>\n",
       "    <tr>\n",
       "      <th>3167</th>\n",
       "      <td>0.165509</td>\n",
       "      <td>0.092884</td>\n",
       "      <td>0.183044</td>\n",
       "      <td>0.070072</td>\n",
       "      <td>0.250827</td>\n",
       "      <td>0.180756</td>\n",
       "      <td>1.705029</td>\n",
       "      <td>5.769115</td>\n",
       "      <td>0.938829</td>\n",
       "      <td>0.601529</td>\n",
       "      <td>...</td>\n",
       "      <td>0.165509</td>\n",
       "      <td>0.185607</td>\n",
       "      <td>0.062257</td>\n",
       "      <td>0.271186</td>\n",
       "      <td>0.227022</td>\n",
       "      <td>0.007812</td>\n",
       "      <td>0.554688</td>\n",
       "      <td>0.546875</td>\n",
       "      <td>0.350000</td>\n",
       "      <td>female</td>\n",
       "    </tr>\n",
       "  </tbody>\n",
       "</table>\n",
       "<p>3168 rows × 21 columns</p>\n",
       "</div>"
      ],
      "text/plain": [
       "      meanfreq        sd    median       Q25       Q75       IQR       skew  \\\n",
       "0     0.059781  0.064241  0.032027  0.015071  0.090193  0.075122  12.863462   \n",
       "1     0.066009  0.067310  0.040229  0.019414  0.092666  0.073252  22.423285   \n",
       "2     0.077316  0.083829  0.036718  0.008701  0.131908  0.123207  30.757155   \n",
       "3     0.151228  0.072111  0.158011  0.096582  0.207955  0.111374   1.232831   \n",
       "4     0.135120  0.079146  0.124656  0.078720  0.206045  0.127325   1.101174   \n",
       "...        ...       ...       ...       ...       ...       ...        ...   \n",
       "3163  0.131884  0.084734  0.153707  0.049285  0.201144  0.151859   1.762129   \n",
       "3164  0.116221  0.089221  0.076758  0.042718  0.204911  0.162193   0.693730   \n",
       "3165  0.142056  0.095798  0.183731  0.033424  0.224360  0.190936   1.876502   \n",
       "3166  0.143659  0.090628  0.184976  0.043508  0.219943  0.176435   1.591065   \n",
       "3167  0.165509  0.092884  0.183044  0.070072  0.250827  0.180756   1.705029   \n",
       "\n",
       "             kurt    sp.ent       sfm  ...  centroid   meanfun    minfun  \\\n",
       "0      274.402906  0.893369  0.491918  ...  0.059781  0.084279  0.015702   \n",
       "1      634.613855  0.892193  0.513724  ...  0.066009  0.107937  0.015826   \n",
       "2     1024.927705  0.846389  0.478905  ...  0.077316  0.098706  0.015656   \n",
       "3        4.177296  0.963322  0.727232  ...  0.151228  0.088965  0.017798   \n",
       "4        4.333713  0.971955  0.783568  ...  0.135120  0.106398  0.016931   \n",
       "...           ...       ...       ...  ...       ...       ...       ...   \n",
       "3163     6.630383  0.962934  0.763182  ...  0.131884  0.182790  0.083770   \n",
       "3164     2.503954  0.960716  0.709570  ...  0.116221  0.188980  0.034409   \n",
       "3165     6.604509  0.946854  0.654196  ...  0.142056  0.209918  0.039506   \n",
       "3166     5.388298  0.950436  0.675470  ...  0.143659  0.172375  0.034483   \n",
       "3167     5.769115  0.938829  0.601529  ...  0.165509  0.185607  0.062257   \n",
       "\n",
       "        maxfun   meandom    mindom    maxdom   dfrange   modindx   label  \n",
       "0     0.275862  0.007812  0.007812  0.007812  0.000000  0.000000    male  \n",
       "1     0.250000  0.009014  0.007812  0.054688  0.046875  0.052632    male  \n",
       "2     0.271186  0.007990  0.007812  0.015625  0.007812  0.046512    male  \n",
       "3     0.250000  0.201497  0.007812  0.562500  0.554688  0.247119    male  \n",
       "4     0.266667  0.712812  0.007812  5.484375  5.476562  0.208274    male  \n",
       "...        ...       ...       ...       ...       ...       ...     ...  \n",
       "3163  0.262295  0.832899  0.007812  4.210938  4.203125  0.161929  female  \n",
       "3164  0.275862  0.909856  0.039062  3.679688  3.640625  0.277897  female  \n",
       "3165  0.275862  0.494271  0.007812  2.937500  2.929688  0.194759  female  \n",
       "3166  0.250000  0.791360  0.007812  3.593750  3.585938  0.311002  female  \n",
       "3167  0.271186  0.227022  0.007812  0.554688  0.546875  0.350000  female  \n",
       "\n",
       "[3168 rows x 21 columns]"
      ]
     },
     "execution_count": 3,
     "metadata": {},
     "output_type": "execute_result"
    }
   ],
   "source": [
    "df"
   ]
  },
  {
   "cell_type": "code",
   "execution_count": 4,
   "id": "e32366f8",
   "metadata": {},
   "outputs": [
    {
     "data": {
      "text/plain": [
       "meanfreq    0\n",
       "sd          0\n",
       "median      0\n",
       "Q25         0\n",
       "Q75         0\n",
       "IQR         0\n",
       "skew        0\n",
       "kurt        0\n",
       "sp.ent      0\n",
       "sfm         0\n",
       "mode        0\n",
       "centroid    0\n",
       "meanfun     0\n",
       "minfun      0\n",
       "maxfun      0\n",
       "meandom     0\n",
       "mindom      0\n",
       "maxdom      0\n",
       "dfrange     0\n",
       "modindx     0\n",
       "label       0\n",
       "dtype: int64"
      ]
     },
     "execution_count": 4,
     "metadata": {},
     "output_type": "execute_result"
    }
   ],
   "source": [
    "df.isnull().sum()"
   ]
  },
  {
   "cell_type": "code",
   "execution_count": 5,
   "id": "23cac8a1",
   "metadata": {},
   "outputs": [
    {
     "data": {
      "image/png": "[encoded data removed]",
      "text/plain": [
       "<Figure size 1000x700 with 1 Axes>"
      ]
     },
     "metadata": {},
     "output_type": "display_data"
    }
   ],
   "source": [
    "values=[df['label'].value_counts()[0],df['label'].value_counts()[1]]\n",
    "data=['Male','Female']\n",
    "fig = plt.figure(figsize =(10, 7))\n",
    "plt.pie(values, labels = data,startangle = 90)\n",
    "plt.show()"
   ]
  },
  {
   "cell_type": "code",
   "execution_count": 6,
   "id": "a86a43a7",
   "metadata": {},
   "outputs": [],
   "source": [
    "y=df['label']\n",
    "X=df.drop('label',axis=1)"
   ]
  },
  {
   "cell_type": "code",
   "execution_count": 7,
   "id": "c934c481",
   "metadata": {},
   "outputs": [],
   "source": [
    "from sklearn.model_selection import train_test_split\n",
    "X_train, X_test, y_train, y_test = train_test_split(X, y, test_size=0.2, random_state=42)"
   ]
  },
  {
   "cell_type": "code",
   "execution_count": 8,
   "id": "fffc051d",
   "metadata": {},
   "outputs": [
    {
     "data": {
      "text/html": [
       "<div>\n",
       "<style scoped>\n",
       "    .dataframe tbody tr th:only-of-type {\n",
       "        vertical-align: middle;\n",
       "    }\n",
       "\n",
       "    .dataframe tbody tr th {\n",
       "        vertical-align: top;\n",
       "    }\n",
       "\n",
       "    .dataframe thead th {\n",
       "        text-align: right;\n",
       "    }\n",
       "</style>\n",
       "<table border=\"1\" class=\"dataframe\">\n",
       "  <thead>\n",
       "    <tr style=\"text-align: right;\">\n",
       "      <th></th>\n",
       "      <th>meanfreq</th>\n",
       "      <th>sd</th>\n",
       "      <th>median</th>\n",
       "      <th>Q25</th>\n",
       "      <th>Q75</th>\n",
       "      <th>IQR</th>\n",
       "      <th>skew</th>\n",
       "      <th>kurt</th>\n",
       "      <th>sp.ent</th>\n",
       "      <th>sfm</th>\n",
       "      <th>mode</th>\n",
       "      <th>centroid</th>\n",
       "      <th>meanfun</th>\n",
       "      <th>minfun</th>\n",
       "      <th>maxfun</th>\n",
       "      <th>meandom</th>\n",
       "      <th>mindom</th>\n",
       "      <th>maxdom</th>\n",
       "      <th>dfrange</th>\n",
       "      <th>modindx</th>\n",
       "    </tr>\n",
       "  </thead>\n",
       "  <tbody>\n",
       "    <tr>\n",
       "      <th>807</th>\n",
       "      <td>0.180360</td>\n",
       "      <td>0.053766</td>\n",
       "      <td>0.189474</td>\n",
       "      <td>0.141895</td>\n",
       "      <td>0.213474</td>\n",
       "      <td>0.071579</td>\n",
       "      <td>1.473165</td>\n",
       "      <td>4.899974</td>\n",
       "      <td>0.918149</td>\n",
       "      <td>0.395065</td>\n",
       "      <td>0.186526</td>\n",
       "      <td>0.180360</td>\n",
       "      <td>0.132277</td>\n",
       "      <td>0.047013</td>\n",
       "      <td>0.279070</td>\n",
       "      <td>0.968568</td>\n",
       "      <td>0.023438</td>\n",
       "      <td>4.148438</td>\n",
       "      <td>4.125000</td>\n",
       "      <td>0.128314</td>\n",
       "    </tr>\n",
       "    <tr>\n",
       "      <th>2495</th>\n",
       "      <td>0.185643</td>\n",
       "      <td>0.065043</td>\n",
       "      <td>0.203955</td>\n",
       "      <td>0.186017</td>\n",
       "      <td>0.223454</td>\n",
       "      <td>0.037437</td>\n",
       "      <td>2.732155</td>\n",
       "      <td>11.206323</td>\n",
       "      <td>0.898330</td>\n",
       "      <td>0.476308</td>\n",
       "      <td>0.199666</td>\n",
       "      <td>0.185643</td>\n",
       "      <td>0.175833</td>\n",
       "      <td>0.048241</td>\n",
       "      <td>0.275862</td>\n",
       "      <td>1.077674</td>\n",
       "      <td>0.023438</td>\n",
       "      <td>6.023438</td>\n",
       "      <td>6.000000</td>\n",
       "      <td>0.086686</td>\n",
       "    </tr>\n",
       "    <tr>\n",
       "      <th>2529</th>\n",
       "      <td>0.203908</td>\n",
       "      <td>0.045961</td>\n",
       "      <td>0.201869</td>\n",
       "      <td>0.177944</td>\n",
       "      <td>0.239626</td>\n",
       "      <td>0.061682</td>\n",
       "      <td>2.247859</td>\n",
       "      <td>10.481790</td>\n",
       "      <td>0.898687</td>\n",
       "      <td>0.358451</td>\n",
       "      <td>0.177944</td>\n",
       "      <td>0.203908</td>\n",
       "      <td>0.169617</td>\n",
       "      <td>0.047291</td>\n",
       "      <td>0.274286</td>\n",
       "      <td>1.265126</td>\n",
       "      <td>0.023438</td>\n",
       "      <td>8.554688</td>\n",
       "      <td>8.531250</td>\n",
       "      <td>0.084143</td>\n",
       "    </tr>\n",
       "    <tr>\n",
       "      <th>2241</th>\n",
       "      <td>0.115789</td>\n",
       "      <td>0.081103</td>\n",
       "      <td>0.102197</td>\n",
       "      <td>0.038124</td>\n",
       "      <td>0.193181</td>\n",
       "      <td>0.155057</td>\n",
       "      <td>1.620439</td>\n",
       "      <td>6.600749</td>\n",
       "      <td>0.962574</td>\n",
       "      <td>0.746873</td>\n",
       "      <td>0.017620</td>\n",
       "      <td>0.115789</td>\n",
       "      <td>0.200910</td>\n",
       "      <td>0.075829</td>\n",
       "      <td>0.258065</td>\n",
       "      <td>0.452257</td>\n",
       "      <td>0.007812</td>\n",
       "      <td>1.578125</td>\n",
       "      <td>1.570312</td>\n",
       "      <td>0.250933</td>\n",
       "    </tr>\n",
       "    <tr>\n",
       "      <th>2981</th>\n",
       "      <td>0.179889</td>\n",
       "      <td>0.067810</td>\n",
       "      <td>0.163096</td>\n",
       "      <td>0.137244</td>\n",
       "      <td>0.246925</td>\n",
       "      <td>0.109681</td>\n",
       "      <td>2.106748</td>\n",
       "      <td>8.030296</td>\n",
       "      <td>0.932428</td>\n",
       "      <td>0.551025</td>\n",
       "      <td>0.156253</td>\n",
       "      <td>0.179889</td>\n",
       "      <td>0.136662</td>\n",
       "      <td>0.033898</td>\n",
       "      <td>0.277778</td>\n",
       "      <td>0.963949</td>\n",
       "      <td>0.043945</td>\n",
       "      <td>3.999023</td>\n",
       "      <td>3.955078</td>\n",
       "      <td>0.261785</td>\n",
       "    </tr>\n",
       "    <tr>\n",
       "      <th>...</th>\n",
       "      <td>...</td>\n",
       "      <td>...</td>\n",
       "      <td>...</td>\n",
       "      <td>...</td>\n",
       "      <td>...</td>\n",
       "      <td>...</td>\n",
       "      <td>...</td>\n",
       "      <td>...</td>\n",
       "      <td>...</td>\n",
       "      <td>...</td>\n",
       "      <td>...</td>\n",
       "      <td>...</td>\n",
       "      <td>...</td>\n",
       "      <td>...</td>\n",
       "      <td>...</td>\n",
       "      <td>...</td>\n",
       "      <td>...</td>\n",
       "      <td>...</td>\n",
       "      <td>...</td>\n",
       "      <td>...</td>\n",
       "    </tr>\n",
       "    <tr>\n",
       "      <th>3092</th>\n",
       "      <td>0.166738</td>\n",
       "      <td>0.052677</td>\n",
       "      <td>0.169427</td>\n",
       "      <td>0.162650</td>\n",
       "      <td>0.189223</td>\n",
       "      <td>0.026573</td>\n",
       "      <td>7.550412</td>\n",
       "      <td>76.134526</td>\n",
       "      <td>0.865282</td>\n",
       "      <td>0.427317</td>\n",
       "      <td>0.167465</td>\n",
       "      <td>0.166738</td>\n",
       "      <td>0.152651</td>\n",
       "      <td>0.022727</td>\n",
       "      <td>0.208333</td>\n",
       "      <td>0.174154</td>\n",
       "      <td>0.161133</td>\n",
       "      <td>0.214844</td>\n",
       "      <td>0.053711</td>\n",
       "      <td>0.136364</td>\n",
       "    </tr>\n",
       "    <tr>\n",
       "      <th>1095</th>\n",
       "      <td>0.198718</td>\n",
       "      <td>0.058959</td>\n",
       "      <td>0.217333</td>\n",
       "      <td>0.143111</td>\n",
       "      <td>0.252000</td>\n",
       "      <td>0.108889</td>\n",
       "      <td>1.116666</td>\n",
       "      <td>3.569725</td>\n",
       "      <td>0.917123</td>\n",
       "      <td>0.363369</td>\n",
       "      <td>0.227556</td>\n",
       "      <td>0.198718</td>\n",
       "      <td>0.139322</td>\n",
       "      <td>0.050473</td>\n",
       "      <td>0.279070</td>\n",
       "      <td>0.792092</td>\n",
       "      <td>0.023438</td>\n",
       "      <td>4.968750</td>\n",
       "      <td>4.945312</td>\n",
       "      <td>0.155766</td>\n",
       "    </tr>\n",
       "    <tr>\n",
       "      <th>1130</th>\n",
       "      <td>0.202333</td>\n",
       "      <td>0.063001</td>\n",
       "      <td>0.221946</td>\n",
       "      <td>0.137544</td>\n",
       "      <td>0.264817</td>\n",
       "      <td>0.127273</td>\n",
       "      <td>2.000371</td>\n",
       "      <td>6.681799</td>\n",
       "      <td>0.873847</td>\n",
       "      <td>0.261759</td>\n",
       "      <td>0.272855</td>\n",
       "      <td>0.202333</td>\n",
       "      <td>0.123610</td>\n",
       "      <td>0.047291</td>\n",
       "      <td>0.269663</td>\n",
       "      <td>1.190168</td>\n",
       "      <td>0.023438</td>\n",
       "      <td>7.429688</td>\n",
       "      <td>7.406250</td>\n",
       "      <td>0.093438</td>\n",
       "    </tr>\n",
       "    <tr>\n",
       "      <th>1294</th>\n",
       "      <td>0.181799</td>\n",
       "      <td>0.058102</td>\n",
       "      <td>0.192037</td>\n",
       "      <td>0.123670</td>\n",
       "      <td>0.225568</td>\n",
       "      <td>0.101897</td>\n",
       "      <td>1.091660</td>\n",
       "      <td>4.009295</td>\n",
       "      <td>0.925575</td>\n",
       "      <td>0.427947</td>\n",
       "      <td>0.190731</td>\n",
       "      <td>0.181799</td>\n",
       "      <td>0.110586</td>\n",
       "      <td>0.049741</td>\n",
       "      <td>0.274286</td>\n",
       "      <td>0.789062</td>\n",
       "      <td>0.023438</td>\n",
       "      <td>4.359375</td>\n",
       "      <td>4.335938</td>\n",
       "      <td>0.062312</td>\n",
       "    </tr>\n",
       "    <tr>\n",
       "      <th>860</th>\n",
       "      <td>0.167732</td>\n",
       "      <td>0.066225</td>\n",
       "      <td>0.171886</td>\n",
       "      <td>0.112598</td>\n",
       "      <td>0.225196</td>\n",
       "      <td>0.112598</td>\n",
       "      <td>0.822981</td>\n",
       "      <td>3.103282</td>\n",
       "      <td>0.953210</td>\n",
       "      <td>0.634648</td>\n",
       "      <td>0.173381</td>\n",
       "      <td>0.167732</td>\n",
       "      <td>0.126107</td>\n",
       "      <td>0.048096</td>\n",
       "      <td>0.279070</td>\n",
       "      <td>0.813616</td>\n",
       "      <td>0.023438</td>\n",
       "      <td>6.023438</td>\n",
       "      <td>6.000000</td>\n",
       "      <td>0.123384</td>\n",
       "    </tr>\n",
       "  </tbody>\n",
       "</table>\n",
       "<p>2534 rows × 20 columns</p>\n",
       "</div>"
      ],
      "text/plain": [
       "      meanfreq        sd    median       Q25       Q75       IQR      skew  \\\n",
       "807   0.180360  0.053766  0.189474  0.141895  0.213474  0.071579  1.473165   \n",
       "2495  0.185643  0.065043  0.203955  0.186017  0.223454  0.037437  2.732155   \n",
       "2529  0.203908  0.045961  0.201869  0.177944  0.239626  0.061682  2.247859   \n",
       "2241  0.115789  0.081103  0.102197  0.038124  0.193181  0.155057  1.620439   \n",
       "2981  0.179889  0.067810  0.163096  0.137244  0.246925  0.109681  2.106748   \n",
       "...        ...       ...       ...       ...       ...       ...       ...   \n",
       "3092  0.166738  0.052677  0.169427  0.162650  0.189223  0.026573  7.550412   \n",
       "1095  0.198718  0.058959  0.217333  0.143111  0.252000  0.108889  1.116666   \n",
       "1130  0.202333  0.063001  0.221946  0.137544  0.264817  0.127273  2.000371   \n",
       "1294  0.181799  0.058102  0.192037  0.123670  0.225568  0.101897  1.091660   \n",
       "860   0.167732  0.066225  0.171886  0.112598  0.225196  0.112598  0.822981   \n",
       "\n",
       "           kurt    sp.ent       sfm      mode  centroid   meanfun    minfun  \\\n",
       "807    4.899974  0.918149  0.395065  0.186526  0.180360  0.132277  0.047013   \n",
       "2495  11.206323  0.898330  0.476308  0.199666  0.185643  0.175833  0.048241   \n",
       "2529  10.481790  0.898687  0.358451  0.177944  0.203908  0.169617  0.047291   \n",
       "2241   6.600749  0.962574  0.746873  0.017620  0.115789  0.200910  0.075829   \n",
       "2981   8.030296  0.932428  0.551025  0.156253  0.179889  0.136662  0.033898   \n",
       "...         ...       ...       ...       ...       ...       ...       ...   \n",
       "3092  76.134526  0.865282  0.427317  0.167465  0.166738  0.152651  0.022727   \n",
       "1095   3.569725  0.917123  0.363369  0.227556  0.198718  0.139322  0.050473   \n",
       "1130   6.681799  0.873847  0.261759  0.272855  0.202333  0.123610  0.047291   \n",
       "1294   4.009295  0.925575  0.427947  0.190731  0.181799  0.110586  0.049741   \n",
       "860    3.103282  0.953210  0.634648  0.173381  0.167732  0.126107  0.048096   \n",
       "\n",
       "        maxfun   meandom    mindom    maxdom   dfrange   modindx  \n",
       "807   0.279070  0.968568  0.023438  4.148438  4.125000  0.128314  \n",
       "2495  0.275862  1.077674  0.023438  6.023438  6.000000  0.086686  \n",
       "2529  0.274286  1.265126  0.023438  8.554688  8.531250  0.084143  \n",
       "2241  0.258065  0.452257  0.007812  1.578125  1.570312  0.250933  \n",
       "2981  0.277778  0.963949  0.043945  3.999023  3.955078  0.261785  \n",
       "...        ...       ...       ...       ...       ...       ...  \n",
       "3092  0.208333  0.174154  0.161133  0.214844  0.053711  0.136364  \n",
       "1095  0.279070  0.792092  0.023438  4.968750  4.945312  0.155766  \n",
       "1130  0.269663  1.190168  0.023438  7.429688  7.406250  0.093438  \n",
       "1294  0.274286  0.789062  0.023438  4.359375  4.335938  0.062312  \n",
       "860   0.279070  0.813616  0.023438  6.023438  6.000000  0.123384  \n",
       "\n",
       "[2534 rows x 20 columns]"
      ]
     },
     "execution_count": 8,
     "metadata": {},
     "output_type": "execute_result"
    }
   ],
   "source": [
    "X_train"
   ]
  },
  {
   "cell_type": "markdown",
   "id": "14c78f65",
   "metadata": {},
   "source": [
    "# Decision Trees"
   ]
  },
  {
   "cell_type": "code",
   "execution_count": 9,
   "id": "ee60f493",
   "metadata": {},
   "outputs": [],
   "source": [
    "from sklearn.tree import DecisionTreeClassifier\n",
    "from sklearn.metrics import accuracy_score, confusion_matrix"
   ]
  },
  {
   "cell_type": "code",
   "execution_count": 10,
   "id": "1341ddd8",
   "metadata": {},
   "outputs": [
    {
     "data": {
      "text/plain": [
       "0.9668769716088328"
      ]
     },
     "execution_count": 10,
     "metadata": {},
     "output_type": "execute_result"
    }
   ],
   "source": [
    "model = DecisionTreeClassifier(max_depth=13, random_state=42)\n",
    "model.fit(X_train, y_train)\n",
    "model.score(X_test,y_test)"
   ]
  },
  {
   "cell_type": "code",
   "execution_count": 11,
   "id": "46e7fd5c",
   "metadata": {},
   "outputs": [
    {
     "data": {
      "text/plain": [
       "array([[292,   5],\n",
       "       [ 16, 321]], dtype=int64)"
      ]
     },
     "execution_count": 11,
     "metadata": {},
     "output_type": "execute_result"
    }
   ],
   "source": [
    "preds=model.predict(X_test)\n",
    "confusion_matrix(y_test,preds)"
   ]
  },
  {
   "cell_type": "markdown",
   "id": "c7bbcef6",
   "metadata": {},
   "source": [
    "# Random Forest Classifier"
   ]
  },
  {
   "cell_type": "code",
   "execution_count": 12,
   "id": "d0e7e814",
   "metadata": {},
   "outputs": [],
   "source": [
    "from sklearn.ensemble import RandomForestClassifier"
   ]
  },
  {
   "cell_type": "code",
   "execution_count": 13,
   "id": "3c56a5b6",
   "metadata": {},
   "outputs": [
    {
     "data": {
      "text/plain": [
       "0.9826498422712934"
      ]
     },
     "execution_count": 13,
     "metadata": {},
     "output_type": "execute_result"
    }
   ],
   "source": [
    "model=RandomForestClassifier(n_jobs=-1,random_state=42,n_estimators=25)\n",
    "model.fit(X_train, y_train)\n",
    "model.score(X_test,y_test)"
   ]
  },
  {
   "cell_type": "code",
   "execution_count": 14,
   "id": "e26a8e57",
   "metadata": {},
   "outputs": [
    {
     "data": {
      "text/plain": [
       "array([[294,   3],\n",
       "       [  8, 329]], dtype=int64)"
      ]
     },
     "execution_count": 14,
     "metadata": {},
     "output_type": "execute_result"
    }
   ],
   "source": [
    "preds=model.predict(X_test)\n",
    "confusion_matrix(y_test,preds)"
   ]
  },
  {
   "cell_type": "markdown",
   "id": "dc85853b",
   "metadata": {},
   "source": [
    "# KNN- Classifier"
   ]
  },
  {
   "cell_type": "code",
   "execution_count": 15,
   "id": "795390aa",
   "metadata": {},
   "outputs": [
    {
     "data": {
      "text/plain": [
       "0.7050473186119873"
      ]
     },
     "execution_count": 15,
     "metadata": {},
     "output_type": "execute_result"
    }
   ],
   "source": [
    "from sklearn.neighbors import KNeighborsClassifier\n",
    "model=KNeighborsClassifier()\n",
    "model.fit(X_train, y_train)\n",
    "model.score(X_test,y_test)"
   ]
  },
  {
   "cell_type": "code",
   "execution_count": 16,
   "id": "8535455c",
   "metadata": {},
   "outputs": [
    {
     "data": {
      "text/plain": [
       "array([[208,  89],\n",
       "       [ 98, 239]], dtype=int64)"
      ]
     },
     "execution_count": 16,
     "metadata": {},
     "output_type": "execute_result"
    }
   ],
   "source": [
    "preds=model.predict(X_test)\n",
    "confusion_matrix(y_test,preds)"
   ]
  },
  {
   "cell_type": "markdown",
   "id": "e2579f7f",
   "metadata": {},
   "source": [
    "# Logistic Regression"
   ]
  },
  {
   "cell_type": "code",
   "execution_count": 17,
   "id": "6c58a400",
   "metadata": {},
   "outputs": [],
   "source": [
    "from sklearn.linear_model import LinearRegression"
   ]
  },
  {
   "cell_type": "code",
   "execution_count": 18,
   "id": "95422f2f",
   "metadata": {},
   "outputs": [],
   "source": [
    "from sklearn import preprocessing\n",
    "le = preprocessing.LabelBinarizer()\n",
    "y_train_enc=le.fit_transform(y_train)\n",
    "y_test_enc=le.transform(y_test)"
   ]
  },
  {
   "cell_type": "code",
   "execution_count": 19,
   "id": "9ce2a48f",
   "metadata": {},
   "outputs": [
    {
     "data": {
      "text/plain": [
       "0.8227714136597015"
      ]
     },
     "execution_count": 19,
     "metadata": {},
     "output_type": "execute_result"
    }
   ],
   "source": [
    "model=LinearRegression()\n",
    "model.fit(X_train, y_train_enc)\n",
    "model.score(X_test,y_test_enc)"
   ]
  },
  {
   "cell_type": "code",
   "execution_count": 20,
   "id": "596c7fb4",
   "metadata": {},
   "outputs": [
    {
     "data": {
      "text/plain": [
       "1"
      ]
     },
     "execution_count": 20,
     "metadata": {},
     "output_type": "execute_result"
    }
   ],
   "source": [
    "abs(-1)"
   ]
  },
  {
   "cell_type": "code",
   "execution_count": 21,
   "id": "f146c10f",
   "metadata": {},
   "outputs": [
    {
     "data": {
      "text/plain": [
       "array([[290,   7],\n",
       "       [  9, 328]], dtype=int64)"
      ]
     },
     "execution_count": 21,
     "metadata": {},
     "output_type": "execute_result"
    }
   ],
   "source": [
    "preds=model.predict(X_test)\n",
    "preds1=[]\n",
    "for i in preds:\n",
    "    if abs(0-abs(i))<abs(1-abs(i)):\n",
    "        preds1.append(0)\n",
    "    else:\n",
    "        preds1.append(1)\n",
    "confusion_matrix(y_test_enc,preds1)"
   ]
  },
  {
   "cell_type": "markdown",
   "id": "2c30542c",
   "metadata": {},
   "source": [
    "# SVM"
   ]
  },
  {
   "cell_type": "code",
   "execution_count": 22,
   "id": "89be1b99",
   "metadata": {},
   "outputs": [
    {
     "data": {
      "text/plain": [
       "0.6561514195583596"
      ]
     },
     "execution_count": 22,
     "metadata": {},
     "output_type": "execute_result"
    }
   ],
   "source": [
    "from sklearn import svm\n",
    "model=svm.SVC()\n",
    "model.fit(X_train, y_train)\n",
    "model.score(X_test,y_test)"
   ]
  },
  {
   "cell_type": "code",
   "execution_count": 23,
   "id": "8ff582c7",
   "metadata": {},
   "outputs": [
    {
     "data": {
      "text/plain": [
       "array([[171, 126],\n",
       "       [ 92, 245]], dtype=int64)"
      ]
     },
     "execution_count": 23,
     "metadata": {},
     "output_type": "execute_result"
    }
   ],
   "source": [
    "preds=model.predict(X_test)\n",
    "confusion_matrix(y_test,preds)"
   ]
  },
  {
   "cell_type": "code",
   "execution_count": null,
   "id": "90829f60",
   "metadata": {},
   "outputs": [],
   "source": []
  },
  {
   "cell_type": "code",
   "execution_count": null,
   "id": "86c573e7",
   "metadata": {},
   "outputs": [],
   "source": []
  },
  {
   "cell_type": "code",
   "execution_count": null,
   "id": "4aed971c",
   "metadata": {},
   "outputs": [],
   "source": []
  }
 ],
 "metadata": {
  "kernelspec": {
   "display_name": "Python 3",
   "language": "python",
   "name": "python3"
  },
  "language_info": {
   "codemirror_mode": {
    "name": "ipython",
    "version": 3
   },
   "file_extension": ".py",
   "mimetype": "text/x-python",
   "name": "python",
   "nbconvert_exporter": "python",
   "pygments_lexer": "ipython3",
   "version": "3.8.0"
  }
 },
 "nbformat": 4,
 "nbformat_minor": 5
}
